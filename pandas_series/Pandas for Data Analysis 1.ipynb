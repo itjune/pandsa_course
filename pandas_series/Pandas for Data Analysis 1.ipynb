{
 "cells": [
  {
   "cell_type": "markdown",
   "metadata": {
    "id": "1ivPDcc7p8lD"
   },
   "source": [
    "# TASK #2. DEFINE A PANDAS SERIES"
   ]
  },
  {
   "cell_type": "code",
   "execution_count": 6,
   "metadata": {
    "executionInfo": {
     "elapsed": 2873,
     "status": "ok",
     "timestamp": 1618858274556,
     "user": {
      "displayName": "Stemplicity",
      "photoUrl": "https://lh3.googleusercontent.com/a-/AOh14Gj2vCFt-bD5mPBhUWX0QA6xiBgoXQXtwUm2jgjaCg=s64",
      "userId": "10668071569687886186"
     },
     "user_tz": 240
    },
    "id": "4YdCraz8p_XF"
   },
   "outputs": [
    {
     "name": "stdout",
     "output_type": "stream",
     "text": [
      "Defaulting to user installation because normal site-packages is not writeable\n",
      "Collecting pip\n",
      "  Downloading pip-22.2.2-py3-none-any.whl (2.0 MB)\n",
      "\u001b[K     |████████████████████████████████| 2.0 MB 5.4 MB/s eta 0:00:01\n",
      "\u001b[?25hInstalling collected packages: pip\n",
      "Successfully installed pip-22.2.2\n",
      "Defaulting to user installation because normal site-packages is not writeable\n",
      "Collecting pandas\n",
      "  Downloading pandas-1.4.3-cp38-cp38-macosx_11_0_arm64.whl (10.3 MB)\n",
      "\u001b[2K     \u001b[90m━━━━━━━━━━━━━━━━━━━━━━━━━━━━━━━━━━━━━━━━\u001b[0m \u001b[32m10.3/10.3 MB\u001b[0m \u001b[31m2.0 MB/s\u001b[0m eta \u001b[36m0:00:00\u001b[0m00:01\u001b[0m00:01\u001b[0m\n",
      "\u001b[?25hRequirement already satisfied: python-dateutil>=2.8.1 in /Users/itjune/Library/Python/3.8/lib/python/site-packages (from pandas) (2.8.2)\n",
      "Collecting pytz>=2020.1\n",
      "  Using cached pytz-2022.1-py2.py3-none-any.whl (503 kB)\n",
      "Collecting numpy>=1.20.0\n",
      "  Downloading numpy-1.23.1-cp38-cp38-macosx_11_0_arm64.whl (13.3 MB)\n",
      "\u001b[2K     \u001b[90m━━━━━━━━━━━━━━━━━━━━━━━━━━━━━━━━━━━━━━━━\u001b[0m \u001b[32m13.3/13.3 MB\u001b[0m \u001b[31m1.7 MB/s\u001b[0m eta \u001b[36m0:00:00\u001b[0m00:01\u001b[0m00:01\u001b[0m\n",
      "\u001b[?25hRequirement already satisfied: six>=1.5 in /Users/itjune/Library/Python/3.8/lib/python/site-packages (from python-dateutil>=2.8.1->pandas) (1.16.0)\n",
      "Installing collected packages: pytz, numpy, pandas\n",
      "Successfully installed numpy-1.23.1 pandas-1.4.3 pytz-2022.1\n"
     ]
    }
   ],
   "source": [
    "import sys\n",
    "!{sys.executable} -m pip install --upgrade pip\n",
    "!{sys.executable} -m pip install pandas"
   ]
  },
  {
   "cell_type": "code",
   "execution_count": 7,
   "metadata": {},
   "outputs": [],
   "source": [
    "import pandas as pd"
   ]
  },
  {
   "cell_type": "code",
   "execution_count": 8,
   "metadata": {
    "colab": {
     "base_uri": "https://localhost:8080/"
    },
    "executionInfo": {
     "elapsed": 2854,
     "status": "ok",
     "timestamp": 1618858274558,
     "user": {
      "displayName": "Stemplicity",
      "photoUrl": "https://lh3.googleusercontent.com/a-/AOh14Gj2vCFt-bD5mPBhUWX0QA6xiBgoXQXtwUm2jgjaCg=s64",
      "userId": "10668071569687886186"
     },
     "user_tz": 240
    },
    "id": "SA9m0RD3K2TF",
    "outputId": "26cc61d4-5858-4a5f-e1b8-e8b7dce26b31"
   },
   "outputs": [
    {
     "data": {
      "text/plain": [
       "['BTC', 'XRP', 'LTC', 'ADA', 'ETH']"
      ]
     },
     "execution_count": 8,
     "metadata": {},
     "output_type": "execute_result"
    }
   ],
   "source": [
    "# Let's define a Python list that contains 5 crypto currencies \n",
    "crypto_list = ['BTC', 'XRP', 'LTC', 'ADA', 'ETH']\n",
    "crypto_list"
   ]
  },
  {
   "cell_type": "code",
   "execution_count": 9,
   "metadata": {
    "colab": {
     "base_uri": "https://localhost:8080/"
    },
    "executionInfo": {
     "elapsed": 2831,
     "status": "ok",
     "timestamp": 1618858274559,
     "user": {
      "displayName": "Stemplicity",
      "photoUrl": "https://lh3.googleusercontent.com/a-/AOh14Gj2vCFt-bD5mPBhUWX0QA6xiBgoXQXtwUm2jgjaCg=s64",
      "userId": "10668071569687886186"
     },
     "user_tz": 240
    },
    "id": "hle4zw51K6-P",
    "outputId": "6cd50b46-ecce-41ad-c688-ca3a662d3d5c"
   },
   "outputs": [
    {
     "data": {
      "text/plain": [
       "0    BTC\n",
       "1    XRP\n",
       "2    LTC\n",
       "3    ADA\n",
       "4    ETH\n",
       "dtype: object"
      ]
     },
     "execution_count": 9,
     "metadata": {},
     "output_type": "execute_result"
    }
   ],
   "source": [
    "crypto_series = pd.Series(data = crypto_list)\n",
    "crypto_series"
   ]
  },
  {
   "cell_type": "code",
   "execution_count": 10,
   "metadata": {
    "colab": {
     "base_uri": "https://localhost:8080/"
    },
    "executionInfo": {
     "elapsed": 2818,
     "status": "ok",
     "timestamp": 1618858274559,
     "user": {
      "displayName": "Stemplicity",
      "photoUrl": "https://lh3.googleusercontent.com/a-/AOh14Gj2vCFt-bD5mPBhUWX0QA6xiBgoXQXtwUm2jgjaCg=s64",
      "userId": "10668071569687886186"
     },
     "user_tz": 240
    },
    "id": "-HNCtPcoNUyf",
    "outputId": "de6ed879-617b-454d-e792-7a7cb300b903"
   },
   "outputs": [
    {
     "data": {
      "text/plain": [
       "pandas.core.series.Series"
      ]
     },
     "execution_count": 10,
     "metadata": {},
     "output_type": "execute_result"
    }
   ],
   "source": [
    "# Let's confirm the Pandas Series Datatype\n",
    "type(crypto_series)"
   ]
  },
  {
   "cell_type": "code",
   "execution_count": 11,
   "metadata": {
    "colab": {
     "base_uri": "https://localhost:8080/"
    },
    "executionInfo": {
     "elapsed": 2806,
     "status": "ok",
     "timestamp": 1618858274560,
     "user": {
      "displayName": "Stemplicity",
      "photoUrl": "https://lh3.googleusercontent.com/a-/AOh14Gj2vCFt-bD5mPBhUWX0QA6xiBgoXQXtwUm2jgjaCg=s64",
      "userId": "10668071569687886186"
     },
     "user_tz": 240
    },
    "id": "LB2J-qw5LdQI",
    "outputId": "b094c6c0-9091-4998-9cfe-01c00ac51933"
   },
   "outputs": [
    {
     "data": {
      "text/plain": [
       "0    2000\n",
       "1     500\n",
       "2    2000\n",
       "3      20\n",
       "4      50\n",
       "dtype: int64"
      ]
     },
     "execution_count": 11,
     "metadata": {},
     "output_type": "execute_result"
    }
   ],
   "source": [
    "crypto_prices_series = pd.Series(data = [2000, 500, 2000, 20, 50])\n",
    "crypto_prices_series"
   ]
  },
  {
   "cell_type": "markdown",
   "metadata": {
    "id": "XN92TgiQOD7I"
   },
   "source": [
    "# TASK #3. DEFINE A PANDAS SERIES WITH CUSTOM INDEX"
   ]
  },
  {
   "cell_type": "code",
   "execution_count": 12,
   "metadata": {
    "colab": {
     "base_uri": "https://localhost:8080/"
    },
    "executionInfo": {
     "elapsed": 2782,
     "status": "ok",
     "timestamp": 1618858274561,
     "user": {
      "displayName": "Stemplicity",
      "photoUrl": "https://lh3.googleusercontent.com/a-/AOh14Gj2vCFt-bD5mPBhUWX0QA6xiBgoXQXtwUm2jgjaCg=s64",
      "userId": "10668071569687886186"
     },
     "user_tz": 240
    },
    "id": "ZSxdgs_xJvxx",
    "outputId": "6236c8f5-d62a-4ef9-9f12-8df4561ea8eb"
   },
   "outputs": [
    {
     "data": {
      "text/plain": [
       "['crypto#1', 'crypto#2', 'crypto#3', 'crypto#4', 'crypto#5']"
      ]
     },
     "execution_count": 12,
     "metadata": {},
     "output_type": "execute_result"
    }
   ],
   "source": [
    "# Let's define a python list as shown below. This python list will be used for the Series index:\n",
    "crypto_labels = ['crypto#1', 'crypto#2', 'crypto#3', 'crypto#4', 'crypto#5']\n",
    "crypto_labels"
   ]
  },
  {
   "cell_type": "code",
   "execution_count": 13,
   "metadata": {
    "executionInfo": {
     "elapsed": 2780,
     "status": "ok",
     "timestamp": 1618858274562,
     "user": {
      "displayName": "Stemplicity",
      "photoUrl": "https://lh3.googleusercontent.com/a-/AOh14Gj2vCFt-bD5mPBhUWX0QA6xiBgoXQXtwUm2jgjaCg=s64",
      "userId": "10668071569687886186"
     },
     "user_tz": 240
    },
    "id": "U4Fq06XwqX9v"
   },
   "outputs": [
    {
     "data": {
      "text/plain": [
       "crypto#1    BTC\n",
       "crypto#2    XRP\n",
       "crypto#3    LTC\n",
       "crypto#4    ADA\n",
       "crypto#5    ETH\n",
       "dtype: object"
      ]
     },
     "execution_count": 13,
     "metadata": {},
     "output_type": "execute_result"
    }
   ],
   "source": [
    "# Let's create a one dimensional Pandas \"series\" \n",
    "# Let's use Pandas Constructor Method to create a series from a Python list\n",
    "# Note that this series is formed of data and associated labels \n",
    "crypto_series = pd.Series(data=crypto_list, index=crypto_labels)\n",
    "crypto_series"
   ]
  },
  {
   "cell_type": "markdown",
   "metadata": {
    "id": "96EH6h9SQYW1"
   },
   "source": [
    "# TASK #4. DEFINE A PANDAS SERIES FROM A DICTIONARY"
   ]
  },
  {
   "cell_type": "code",
   "execution_count": 14,
   "metadata": {
    "executionInfo": {
     "elapsed": 3247,
     "status": "ok",
     "timestamp": 1618858275060,
     "user": {
      "displayName": "Stemplicity",
      "photoUrl": "https://lh3.googleusercontent.com/a-/AOh14Gj2vCFt-bD5mPBhUWX0QA6xiBgoXQXtwUm2jgjaCg=s64",
      "userId": "10668071569687886186"
     },
     "user_tz": 240
    },
    "id": "fk9R_fZlML_y"
   },
   "outputs": [],
   "source": [
    "# A Dictionary consists of a collection of key-value pairs. Each key-value pair maps the key to its corresponding value.\n",
    "# Keys are unique within a dictionary while values may not be. \n",
    "# List elements are accessed by their position in the list, via indexing while Dictionary elements are accessed via keys\n",
    "# Define a dictionary named \"my_dict\" using key-value pairs\n",
    "my_dict = {'Employee ID': 1, \n",
    "          'Emloyee Name': 'Ryan',\n",
    "          'Salary [$]': 2000, \n",
    "          'Years with Company': 10}"
   ]
  },
  {
   "cell_type": "code",
   "execution_count": 15,
   "metadata": {
    "colab": {
     "base_uri": "https://localhost:8080/"
    },
    "executionInfo": {
     "elapsed": 3212,
     "status": "ok",
     "timestamp": 1618858275061,
     "user": {
      "displayName": "Stemplicity",
      "photoUrl": "https://lh3.googleusercontent.com/a-/AOh14Gj2vCFt-bD5mPBhUWX0QA6xiBgoXQXtwUm2jgjaCg=s64",
      "userId": "10668071569687886186"
     },
     "user_tz": 240
    },
    "id": "LeH27Q4aQeXe",
    "outputId": "e7e8c45a-7c15-4975-dc3f-d04526840b0e"
   },
   "outputs": [
    {
     "data": {
      "text/plain": [
       "Employee ID              1\n",
       "Emloyee Name          Ryan\n",
       "Salary [$]            2000\n",
       "Years with Company      10\n",
       "dtype: object"
      ]
     },
     "execution_count": 15,
     "metadata": {},
     "output_type": "execute_result"
    }
   ],
   "source": [
    "# Let's define a Pandas Series Using the dictionary\n",
    "employee_series = pd.Series(my_dict)\n",
    "employee_series"
   ]
  },
  {
   "cell_type": "markdown",
   "metadata": {
    "id": "VGlb7t7WRIR3"
   },
   "source": [
    "# TASK #5. PANDAS ATTRIBUTES"
   ]
  },
  {
   "cell_type": "code",
   "execution_count": 16,
   "metadata": {
    "colab": {
     "base_uri": "https://localhost:8080/"
    },
    "executionInfo": {
     "elapsed": 3200,
     "status": "ok",
     "timestamp": 1618858275063,
     "user": {
      "displayName": "Stemplicity",
      "photoUrl": "https://lh3.googleusercontent.com/a-/AOh14Gj2vCFt-bD5mPBhUWX0QA6xiBgoXQXtwUm2jgjaCg=s64",
      "userId": "10668071569687886186"
     },
     "user_tz": 240
    },
    "id": "p4FauWQlRRD8",
    "outputId": "e4886437-037a-4c0d-d101-4ae420394a55"
   },
   "outputs": [
    {
     "data": {
      "text/plain": [
       "0    BTC\n",
       "1    XRP\n",
       "2    LTC\n",
       "3    ADA\n",
       "4    ETH\n",
       "dtype: object"
      ]
     },
     "execution_count": 16,
     "metadata": {},
     "output_type": "execute_result"
    }
   ],
   "source": [
    "# Attributes/Properties: do not use parantheses \"()\" and are used to get Pandas Series Properties. Ex: my_series.values, my_series.shape\n",
    "# Methods: use parantheses \"()\" and might include arguments and they actually alter/change the Pandas Series. Ex: my_series.tail(), my_series.head(), my_series.drop_duplicates()\n",
    "# Indexers: use square brackets \"[]\" and are used to access specific elements in a Pandas Series or DataFrame. Ex: my_series.loc[], my_series.iloc[]\n",
    "\n",
    "# Let's redefine a Pandas Series containing our favourite 5 cryptos \n",
    "crypto_list = ['BTC', 'XRP', 'LTC', 'ADA', 'ETH']\n",
    "crypto_series = pd.Series(data=crypto_list)\n",
    "crypto_series"
   ]
  },
  {
   "cell_type": "code",
   "execution_count": 17,
   "metadata": {
    "colab": {
     "base_uri": "https://localhost:8080/"
    },
    "executionInfo": {
     "elapsed": 3191,
     "status": "ok",
     "timestamp": 1618858275063,
     "user": {
      "displayName": "Stemplicity",
      "photoUrl": "https://lh3.googleusercontent.com/a-/AOh14Gj2vCFt-bD5mPBhUWX0QA6xiBgoXQXtwUm2jgjaCg=s64",
      "userId": "10668071569687886186"
     },
     "user_tz": 240
    },
    "id": "KBgZI_vHQeeA",
    "outputId": "15e55866-6ba6-4092-d147-ebd9ea3db158"
   },
   "outputs": [
    {
     "data": {
      "text/plain": [
       "array(['BTC', 'XRP', 'LTC', 'ADA', 'ETH'], dtype=object)"
      ]
     },
     "execution_count": 17,
     "metadata": {},
     "output_type": "execute_result"
    }
   ],
   "source": [
    "# \".Values\" attribute is used to return Series as ndarray depending on its dtype\n",
    "# Check this for more information: https://pandas.pydata.org/docs/reference/api/pandas.Series.values.html#pandas.Series.values\n",
    "crypto_series.values"
   ]
  },
  {
   "cell_type": "code",
   "execution_count": 18,
   "metadata": {
    "colab": {
     "base_uri": "https://localhost:8080/"
    },
    "executionInfo": {
     "elapsed": 3181,
     "status": "ok",
     "timestamp": 1618858275064,
     "user": {
      "displayName": "Stemplicity",
      "photoUrl": "https://lh3.googleusercontent.com/a-/AOh14Gj2vCFt-bD5mPBhUWX0QA6xiBgoXQXtwUm2jgjaCg=s64",
      "userId": "10668071569687886186"
     },
     "user_tz": 240
    },
    "id": "YDunyBEQRtoJ",
    "outputId": "b871c285-8973-4076-9c77-61898c193f42"
   },
   "outputs": [
    {
     "data": {
      "text/plain": [
       "RangeIndex(start=0, stop=5, step=1)"
      ]
     },
     "execution_count": 18,
     "metadata": {},
     "output_type": "execute_result"
    }
   ],
   "source": [
    "# index is used to return the index (axis labels) of the Series\n",
    "crypto_series.index"
   ]
  },
  {
   "cell_type": "code",
   "execution_count": 19,
   "metadata": {
    "colab": {
     "base_uri": "https://localhost:8080/"
    },
    "executionInfo": {
     "elapsed": 3171,
     "status": "ok",
     "timestamp": 1618858275065,
     "user": {
      "displayName": "Stemplicity",
      "photoUrl": "https://lh3.googleusercontent.com/a-/AOh14Gj2vCFt-bD5mPBhUWX0QA6xiBgoXQXtwUm2jgjaCg=s64",
      "userId": "10668071569687886186"
     },
     "user_tz": 240
    },
    "id": "7bgfGfQaSrqw",
    "outputId": "1500e3b0-a9da-4d61-cbe2-fdf8fe296a1e"
   },
   "outputs": [
    {
     "data": {
      "text/plain": [
       "dtype('O')"
      ]
     },
     "execution_count": 19,
     "metadata": {},
     "output_type": "execute_result"
    }
   ],
   "source": [
    "# dtype is used to return the datatype of the Series ('O' stands for 'object' datatype)\n",
    "crypto_series.dtype"
   ]
  },
  {
   "cell_type": "code",
   "execution_count": 20,
   "metadata": {
    "colab": {
     "base_uri": "https://localhost:8080/"
    },
    "executionInfo": {
     "elapsed": 3154,
     "status": "ok",
     "timestamp": 1618858275066,
     "user": {
      "displayName": "Stemplicity",
      "photoUrl": "https://lh3.googleusercontent.com/a-/AOh14Gj2vCFt-bD5mPBhUWX0QA6xiBgoXQXtwUm2jgjaCg=s64",
      "userId": "10668071569687886186"
     },
     "user_tz": 240
    },
    "id": "XeQtP9v2dxzu",
    "outputId": "6689f7de-159f-48d3-9abf-bba1c6f6b198"
   },
   "outputs": [
    {
     "data": {
      "text/plain": [
       "True"
      ]
     },
     "execution_count": 20,
     "metadata": {},
     "output_type": "execute_result"
    }
   ],
   "source": [
    "# Check if all elements are unique or not\n",
    "crypto_series.is_unique"
   ]
  },
  {
   "cell_type": "code",
   "execution_count": 21,
   "metadata": {
    "colab": {
     "base_uri": "https://localhost:8080/"
    },
    "executionInfo": {
     "elapsed": 3133,
     "status": "ok",
     "timestamp": 1618858275066,
     "user": {
      "displayName": "Stemplicity",
      "photoUrl": "https://lh3.googleusercontent.com/a-/AOh14Gj2vCFt-bD5mPBhUWX0QA6xiBgoXQXtwUm2jgjaCg=s64",
      "userId": "10668071569687886186"
     },
     "user_tz": 240
    },
    "id": "8VWnKVh0d7Kw",
    "outputId": "dca8b133-a9c1-432d-ed9d-9f9056224e62"
   },
   "outputs": [
    {
     "data": {
      "text/plain": [
       "(5,)"
      ]
     },
     "execution_count": 21,
     "metadata": {},
     "output_type": "execute_result"
    }
   ],
   "source": [
    "# Check the shape of the Series\n",
    "# note that a Series is one dimensional\n",
    "crypto_series.shape"
   ]
  },
  {
   "cell_type": "markdown",
   "metadata": {
    "id": "Qc7sVau-UtYt"
   },
   "source": [
    "# TASK #6. PANDAS METHODS"
   ]
  },
  {
   "cell_type": "code",
   "execution_count": 22,
   "metadata": {
    "colab": {
     "base_uri": "https://localhost:8080/"
    },
    "executionInfo": {
     "elapsed": 3125,
     "status": "ok",
     "timestamp": 1618858275068,
     "user": {
      "displayName": "Stemplicity",
      "photoUrl": "https://lh3.googleusercontent.com/a-/AOh14Gj2vCFt-bD5mPBhUWX0QA6xiBgoXQXtwUm2jgjaCg=s64",
      "userId": "10668071569687886186"
     },
     "user_tz": 240
    },
    "id": "5gwWM4VvUxI2",
    "outputId": "7cb2d91b-0317-4708-9140-053a2ac721c2"
   },
   "outputs": [
    {
     "data": {
      "text/plain": [
       "0     400\n",
       "1     500\n",
       "2    1500\n",
       "3      20\n",
       "4      70\n",
       "dtype: int64"
      ]
     },
     "execution_count": 22,
     "metadata": {},
     "output_type": "execute_result"
    }
   ],
   "source": [
    "# Methods have parentheses and they actually alter/change the Pandas Series\n",
    "# Methods: use parantheses \"()\" and might include arguments. Ex: my_series.tail(), my_series.head(), my_series.drop_duplicates()\n",
    "\n",
    "# Let's define another Pandas Series that contains numeric values (crypto prices) instead of text data\n",
    "# Note that we have int64 datatype which means it contains integer values stored in 64 bits in memory\n",
    "crypto_prices = pd.Series(data = [400, 500, 1500, 20, 70])\n",
    "crypto_prices"
   ]
  },
  {
   "cell_type": "code",
   "execution_count": 23,
   "metadata": {
    "colab": {
     "base_uri": "https://localhost:8080/"
    },
    "executionInfo": {
     "elapsed": 3116,
     "status": "ok",
     "timestamp": 1618858275069,
     "user": {
      "displayName": "Stemplicity",
      "photoUrl": "https://lh3.googleusercontent.com/a-/AOh14Gj2vCFt-bD5mPBhUWX0QA6xiBgoXQXtwUm2jgjaCg=s64",
      "userId": "10668071569687886186"
     },
     "user_tz": 240
    },
    "id": "ImwFgVASUxLa",
    "outputId": "9f7b7f3b-b8fb-4ebf-e224-fa7c43197d3f"
   },
   "outputs": [
    {
     "data": {
      "text/plain": [
       "2490"
      ]
     },
     "execution_count": 23,
     "metadata": {},
     "output_type": "execute_result"
    }
   ],
   "source": [
    "# Let's obtain the sum of all elements in the Pandas Series\n",
    "crypto_prices.sum()"
   ]
  },
  {
   "cell_type": "code",
   "execution_count": 24,
   "metadata": {
    "colab": {
     "base_uri": "https://localhost:8080/"
    },
    "executionInfo": {
     "elapsed": 3100,
     "status": "ok",
     "timestamp": 1618858275071,
     "user": {
      "displayName": "Stemplicity",
      "photoUrl": "https://lh3.googleusercontent.com/a-/AOh14Gj2vCFt-bD5mPBhUWX0QA6xiBgoXQXtwUm2jgjaCg=s64",
      "userId": "10668071569687886186"
     },
     "user_tz": 240
    },
    "id": "OLa69YwxUxOa",
    "outputId": "158234c1-4535-45b8-ae26-677f57238f08"
   },
   "outputs": [
    {
     "data": {
      "text/plain": [
       "420000000000"
      ]
     },
     "execution_count": 24,
     "metadata": {},
     "output_type": "execute_result"
    }
   ],
   "source": [
    "# Let's obtain the multiplication of all elements in the Pandas Series\n",
    "crypto_prices.product()"
   ]
  },
  {
   "cell_type": "code",
   "execution_count": 25,
   "metadata": {
    "colab": {
     "base_uri": "https://localhost:8080/"
    },
    "executionInfo": {
     "elapsed": 3079,
     "status": "ok",
     "timestamp": 1618858275072,
     "user": {
      "displayName": "Stemplicity",
      "photoUrl": "https://lh3.googleusercontent.com/a-/AOh14Gj2vCFt-bD5mPBhUWX0QA6xiBgoXQXtwUm2jgjaCg=s64",
      "userId": "10668071569687886186"
     },
     "user_tz": 240
    },
    "id": "xVMJtbtkUxQ-",
    "outputId": "650e2e87-2838-460a-98ae-09d1eb01cdcb"
   },
   "outputs": [
    {
     "data": {
      "text/plain": [
       "498.0"
      ]
     },
     "execution_count": 25,
     "metadata": {},
     "output_type": "execute_result"
    }
   ],
   "source": [
    "# Let's obtain the average\n",
    "crypto_prices.mean()"
   ]
  },
  {
   "cell_type": "code",
   "execution_count": 26,
   "metadata": {
    "colab": {
     "base_uri": "https://localhost:8080/"
    },
    "executionInfo": {
     "elapsed": 3069,
     "status": "ok",
     "timestamp": 1618858275073,
     "user": {
      "displayName": "Stemplicity",
      "photoUrl": "https://lh3.googleusercontent.com/a-/AOh14Gj2vCFt-bD5mPBhUWX0QA6xiBgoXQXtwUm2jgjaCg=s64",
      "userId": "10668071569687886186"
     },
     "user_tz": 240
    },
    "id": "FgqSFr98YTUw",
    "outputId": "afaf3e7b-b5c1-4d1c-b99d-dd1bc9af90e3"
   },
   "outputs": [
    {
     "data": {
      "text/plain": [
       "0    400\n",
       "1    500\n",
       "dtype: int64"
      ]
     },
     "execution_count": 26,
     "metadata": {},
     "output_type": "execute_result"
    }
   ],
   "source": [
    "# Let's show the first couple of elements in the Pandas Series\n",
    "crypto_prices.head(2)"
   ]
  },
  {
   "cell_type": "code",
   "execution_count": 27,
   "metadata": {
    "colab": {
     "base_uri": "https://localhost:8080/"
    },
    "executionInfo": {
     "elapsed": 3070,
     "status": "ok",
     "timestamp": 1618858275083,
     "user": {
      "displayName": "Stemplicity",
      "photoUrl": "https://lh3.googleusercontent.com/a-/AOh14Gj2vCFt-bD5mPBhUWX0QA6xiBgoXQXtwUm2jgjaCg=s64",
      "userId": "10668071569687886186"
     },
     "user_tz": 240
    },
    "id": "GFoxw41LZrBs",
    "outputId": "3aefbee8-0c98-44f4-a0b1-fd3b8a08899e"
   },
   "outputs": [
    {
     "data": {
      "text/plain": [
       "0     400\n",
       "1     500\n",
       "2    1500\n",
       "dtype: int64"
      ]
     },
     "execution_count": 27,
     "metadata": {},
     "output_type": "execute_result"
    }
   ],
   "source": [
    "# Note that head creates a new dataframe \n",
    "new_crypto_prices = crypto_prices.head(3)\n",
    "new_crypto_prices"
   ]
  },
  {
   "cell_type": "code",
   "execution_count": 28,
   "metadata": {
    "colab": {
     "base_uri": "https://localhost:8080/"
    },
    "executionInfo": {
     "elapsed": 3063,
     "status": "ok",
     "timestamp": 1618858275085,
     "user": {
      "displayName": "Stemplicity",
      "photoUrl": "https://lh3.googleusercontent.com/a-/AOh14Gj2vCFt-bD5mPBhUWX0QA6xiBgoXQXtwUm2jgjaCg=s64",
      "userId": "10668071569687886186"
     },
     "user_tz": 240
    },
    "id": "UUiOynSPSshX",
    "outputId": "a3eb0c0b-1456-40aa-8fa6-2303e8396fad"
   },
   "outputs": [
    {
     "data": {
      "text/plain": [
       "3    20\n",
       "4    70\n",
       "dtype: int64"
      ]
     },
     "execution_count": 28,
     "metadata": {},
     "output_type": "execute_result"
    }
   ],
   "source": [
    "crypto_prices.tail(2)"
   ]
  },
  {
   "cell_type": "code",
   "execution_count": 29,
   "metadata": {},
   "outputs": [
    {
     "data": {
      "text/plain": [
       "168"
      ]
     },
     "execution_count": 29,
     "metadata": {},
     "output_type": "execute_result"
    }
   ],
   "source": [
    "crypto_prices.memory_usage()"
   ]
  },
  {
   "cell_type": "markdown",
   "metadata": {
    "id": "vzu3jPDbasz5"
   },
   "source": [
    "# TASK #7. IMPORT CSV DATA (1-D) USING PANDAS"
   ]
  },
  {
   "cell_type": "code",
   "execution_count": 32,
   "metadata": {
    "colab": {
     "base_uri": "https://localhost:8080/",
     "height": 404
    },
    "executionInfo": {
     "elapsed": 3588,
     "status": "error",
     "timestamp": 1618858275613,
     "user": {
      "displayName": "Stemplicity",
      "photoUrl": "https://lh3.googleusercontent.com/a-/AOh14Gj2vCFt-bD5mPBhUWX0QA6xiBgoXQXtwUm2jgjaCg=s64",
      "userId": "10668071569687886186"
     },
     "user_tz": 240
    },
    "id": "zLiVpmH2asz6",
    "outputId": "165b683c-727d-4eee-aab4-be8aee65801c"
   },
   "outputs": [
    {
     "name": "stderr",
     "output_type": "stream",
     "text": [
      "/var/folders/m7/3bvfrnlx3k39b079pz2202l80000gn/T/ipykernel_74974/2230094622.py:4: FutureWarning: The squeeze argument has been deprecated and will be removed in a future version. Append .squeeze(\"columns\") to the call to squeeze.\n",
      "\n",
      "\n",
      "  BTC_price_series = pd.read_csv('crypto.csv', squeeze=True)\n"
     ]
    },
    {
     "data": {
      "text/plain": [
       "0         457.334015\n",
       "1         424.440002\n",
       "2         394.795990\n",
       "3         408.903992\n",
       "4         398.821014\n",
       "            ...     \n",
       "2380    55950.746090\n",
       "2381    57750.199220\n",
       "2382    58917.691410\n",
       "2383    58918.832030\n",
       "2384    59095.808590\n",
       "Name: BTC-USD Price, Length: 2385, dtype: float64"
      ]
     },
     "execution_count": 32,
     "metadata": {},
     "output_type": "execute_result"
    }
   ],
   "source": [
    "# Pandas read_csv is used to read a csv file and store data in a DataFrame by default (DataFrames will be covered shortly!)\n",
    "# Use Squeeze to convert it into a Pandas Series (One-dimensional)\n",
    "# Notice that no foramtting exists when a Series is plotted\n",
    "BTC_price_series = pd.read_csv('crypto.csv', squeeze=True)\n",
    "BTC_price_series"
   ]
  },
  {
   "cell_type": "code",
   "execution_count": 33,
   "metadata": {},
   "outputs": [
    {
     "data": {
      "text/plain": [
       "pandas.core.series.Series"
      ]
     },
     "execution_count": 33,
     "metadata": {},
     "output_type": "execute_result"
    }
   ],
   "source": [
    "type(BTC_price_series)"
   ]
  },
  {
   "cell_type": "code",
   "execution_count": 34,
   "metadata": {},
   "outputs": [
    {
     "data": {
      "text/html": [
       "<div>\n",
       "<style scoped>\n",
       "    .dataframe tbody tr th:only-of-type {\n",
       "        vertical-align: middle;\n",
       "    }\n",
       "\n",
       "    .dataframe tbody tr th {\n",
       "        vertical-align: top;\n",
       "    }\n",
       "\n",
       "    .dataframe thead th {\n",
       "        text-align: right;\n",
       "    }\n",
       "</style>\n",
       "<table border=\"1\" class=\"dataframe\">\n",
       "  <thead>\n",
       "    <tr style=\"text-align: right;\">\n",
       "      <th></th>\n",
       "      <th>BTC-USD Price</th>\n",
       "    </tr>\n",
       "  </thead>\n",
       "  <tbody>\n",
       "    <tr>\n",
       "      <th>0</th>\n",
       "      <td>457.334015</td>\n",
       "    </tr>\n",
       "    <tr>\n",
       "      <th>1</th>\n",
       "      <td>424.440002</td>\n",
       "    </tr>\n",
       "    <tr>\n",
       "      <th>2</th>\n",
       "      <td>394.795990</td>\n",
       "    </tr>\n",
       "    <tr>\n",
       "      <th>3</th>\n",
       "      <td>408.903992</td>\n",
       "    </tr>\n",
       "    <tr>\n",
       "      <th>4</th>\n",
       "      <td>398.821014</td>\n",
       "    </tr>\n",
       "    <tr>\n",
       "      <th>...</th>\n",
       "      <td>...</td>\n",
       "    </tr>\n",
       "    <tr>\n",
       "      <th>2380</th>\n",
       "      <td>55950.746090</td>\n",
       "    </tr>\n",
       "    <tr>\n",
       "      <th>2381</th>\n",
       "      <td>57750.199220</td>\n",
       "    </tr>\n",
       "    <tr>\n",
       "      <th>2382</th>\n",
       "      <td>58917.691410</td>\n",
       "    </tr>\n",
       "    <tr>\n",
       "      <th>2383</th>\n",
       "      <td>58918.832030</td>\n",
       "    </tr>\n",
       "    <tr>\n",
       "      <th>2384</th>\n",
       "      <td>59095.808590</td>\n",
       "    </tr>\n",
       "  </tbody>\n",
       "</table>\n",
       "<p>2385 rows × 1 columns</p>\n",
       "</div>"
      ],
      "text/plain": [
       "      BTC-USD Price\n",
       "0        457.334015\n",
       "1        424.440002\n",
       "2        394.795990\n",
       "3        408.903992\n",
       "4        398.821014\n",
       "...             ...\n",
       "2380   55950.746090\n",
       "2381   57750.199220\n",
       "2382   58917.691410\n",
       "2383   58918.832030\n",
       "2384   59095.808590\n",
       "\n",
       "[2385 rows x 1 columns]"
      ]
     },
     "execution_count": 34,
     "metadata": {},
     "output_type": "execute_result"
    }
   ],
   "source": [
    "# Note that when you set Squeeze = False, the data is stored in a DataFrame by default. \n",
    "# DataFrame is simply used to store multi dimensional data as compares to Pandas Series that only holds 1-D dataset \n",
    "# Note that DataFrames has proper formatting when you attempt to view them as shown below \n",
    "# Note that Pandas Series has no formatting\n",
    "BTC_price_series = pd.read_csv('crypto.csv')\n",
    "BTC_price_series"
   ]
  },
  {
   "cell_type": "code",
   "execution_count": 35,
   "metadata": {},
   "outputs": [
    {
     "data": {
      "text/plain": [
       "pandas.core.frame.DataFrame"
      ]
     },
     "execution_count": 35,
     "metadata": {},
     "output_type": "execute_result"
    }
   ],
   "source": [
    "type(BTC_price_series)"
   ]
  },
  {
   "cell_type": "markdown",
   "metadata": {
    "id": "8HBGOWjKaK_i"
   },
   "source": [
    "# TASK #8. PANDAS BUILT-IN FUNCTIONS"
   ]
  },
  {
   "cell_type": "code",
   "execution_count": 41,
   "metadata": {},
   "outputs": [
    {
     "data": {
      "text/plain": [
       "0         457.334015\n",
       "1         424.440002\n",
       "2         394.795990\n",
       "3         408.903992\n",
       "4         398.821014\n",
       "            ...     \n",
       "2380    55950.746090\n",
       "2381    57750.199220\n",
       "2382    58917.691410\n",
       "2383    58918.832030\n",
       "2384    59095.808590\n",
       "Name: BTC-USD Price, Length: 2385, dtype: float64"
      ]
     },
     "execution_count": 41,
     "metadata": {},
     "output_type": "execute_result"
    }
   ],
   "source": [
    "BTC_price_series = pd.read_csv('crypto.csv').squeeze(\"columns\")\n",
    "BTC_price_series"
   ]
  },
  {
   "cell_type": "code",
   "execution_count": 42,
   "metadata": {
    "executionInfo": {
     "elapsed": 3472,
     "status": "aborted",
     "timestamp": 1618858275550,
     "user": {
      "displayName": "Stemplicity",
      "photoUrl": "https://lh3.googleusercontent.com/a-/AOh14Gj2vCFt-bD5mPBhUWX0QA6xiBgoXQXtwUm2jgjaCg=s64",
      "userId": "10668071569687886186"
     },
     "user_tz": 240
    },
    "id": "NbKysqrSaQ32"
   },
   "outputs": [
    {
     "data": {
      "text/plain": [
       "2385"
      ]
     },
     "execution_count": 42,
     "metadata": {},
     "output_type": "execute_result"
    }
   ],
   "source": [
    "# Obtain the length of the Pandas Series\n",
    "len(BTC_price_series)"
   ]
  },
  {
   "cell_type": "code",
   "execution_count": 43,
   "metadata": {
    "executionInfo": {
     "elapsed": 3457,
     "status": "aborted",
     "timestamp": 1618858275551,
     "user": {
      "displayName": "Stemplicity",
      "photoUrl": "https://lh3.googleusercontent.com/a-/AOh14Gj2vCFt-bD5mPBhUWX0QA6xiBgoXQXtwUm2jgjaCg=s64",
      "userId": "10668071569687886186"
     },
     "user_tz": 240
    },
    "id": "FeeA8actaQ6P"
   },
   "outputs": [
    {
     "data": {
      "text/plain": [
       "(61243.08594, 178.1029968)"
      ]
     },
     "execution_count": 43,
     "metadata": {},
     "output_type": "execute_result"
    }
   ],
   "source": [
    "# Obtain the maximum value of the Pandas Series\n",
    "max(BTC_price_series), min(BTC_price_series)"
   ]
  },
  {
   "cell_type": "markdown",
   "metadata": {
    "id": "LKDuJ94RvB85"
   },
   "source": [
    "# TASK #9. SORTING PANDAS SERIES"
   ]
  },
  {
   "cell_type": "code",
   "execution_count": 44,
   "metadata": {
    "executionInfo": {
     "elapsed": 3446,
     "status": "aborted",
     "timestamp": 1618858275575,
     "user": {
      "displayName": "Stemplicity",
      "photoUrl": "https://lh3.googleusercontent.com/a-/AOh14Gj2vCFt-bD5mPBhUWX0QA6xiBgoXQXtwUm2jgjaCg=s64",
      "userId": "10668071569687886186"
     },
     "user_tz": 240
    },
    "id": "DaglhPNevFYC"
   },
   "outputs": [
    {
     "data": {
      "text/plain": [
       "119       178.102997\n",
       "122       199.259995\n",
       "121       208.097000\n",
       "120       209.843994\n",
       "123       210.339004\n",
       "            ...     \n",
       "2382    58917.691410\n",
       "2383    58918.832030\n",
       "2384    59095.808590\n",
       "2366    59302.316410\n",
       "2365    61243.085940\n",
       "Name: BTC-USD Price, Length: 2385, dtype: float64"
      ]
     },
     "execution_count": 44,
     "metadata": {},
     "output_type": "execute_result"
    }
   ],
   "source": [
    "# You can sort the values in the dataframe as follows\n",
    "BTC_price_series.sort_values()"
   ]
  },
  {
   "cell_type": "code",
   "execution_count": 47,
   "metadata": {
    "executionInfo": {
     "elapsed": 3436,
     "status": "aborted",
     "timestamp": 1618858275576,
     "user": {
      "displayName": "Stemplicity",
      "photoUrl": "https://lh3.googleusercontent.com/a-/AOh14Gj2vCFt-bD5mPBhUWX0QA6xiBgoXQXtwUm2jgjaCg=s64",
      "userId": "10668071569687886186"
     },
     "user_tz": 240
    },
    "id": "Pgt25eXmvFce"
   },
   "outputs": [
    {
     "data": {
      "text/plain": [
       "119       178.102997\n",
       "122       199.259995\n",
       "121       208.097000\n",
       "120       209.843994\n",
       "123       210.339004\n",
       "            ...     \n",
       "2382    58917.691410\n",
       "2383    58918.832030\n",
       "2384    59095.808590\n",
       "2366    59302.316410\n",
       "2365    61243.085940\n",
       "Name: BTC-USD Price, Length: 2385, dtype: float64"
      ]
     },
     "execution_count": 47,
     "metadata": {},
     "output_type": "execute_result"
    }
   ],
   "source": [
    "# Set inplace = True to ensure that change has taken place in memory \n",
    "BTC_price_series_copy = BTC_price_series.copy()\n",
    "BTC_price_series_copy.sort_values(inplace=True)\n",
    "BTC_price_series_copy"
   ]
  },
  {
   "cell_type": "code",
   "execution_count": 49,
   "metadata": {
    "executionInfo": {
     "elapsed": 3410,
     "status": "aborted",
     "timestamp": 1618858275578,
     "user": {
      "displayName": "Stemplicity",
      "photoUrl": "https://lh3.googleusercontent.com/a-/AOh14Gj2vCFt-bD5mPBhUWX0QA6xiBgoXQXtwUm2jgjaCg=s64",
      "userId": "10668071569687886186"
     },
     "user_tz": 240
    },
    "id": "6wi0QnU5iGk8"
   },
   "outputs": [
    {
     "data": {
      "text/plain": [
       "0         457.334015\n",
       "1         424.440002\n",
       "2         394.795990\n",
       "3         408.903992\n",
       "4         398.821014\n",
       "            ...     \n",
       "2380    55950.746090\n",
       "2381    57750.199220\n",
       "2382    58917.691410\n",
       "2383    58918.832030\n",
       "2384    59095.808590\n",
       "Name: BTC-USD Price, Length: 2385, dtype: float64"
      ]
     },
     "execution_count": 49,
     "metadata": {},
     "output_type": "execute_result"
    }
   ],
   "source": [
    "# Notice that the indexes are now changed \n",
    "# You can also sort by index (revert back to the original Pandas Series) as follows: \n",
    "BTC_price_series_copy.sort_index(inplace=True)\n",
    "BTC_price_series_copy"
   ]
  },
  {
   "cell_type": "code",
   "execution_count": 50,
   "metadata": {
    "executionInfo": {
     "elapsed": 3408,
     "status": "aborted",
     "timestamp": 1618858275578,
     "user": {
      "displayName": "Stemplicity",
      "photoUrl": "https://lh3.googleusercontent.com/a-/AOh14Gj2vCFt-bD5mPBhUWX0QA6xiBgoXQXtwUm2jgjaCg=s64",
      "userId": "10668071569687886186"
     },
     "user_tz": 240
    },
    "id": "zw0acoYEkDJB"
   },
   "outputs": [
    {
     "data": {
      "text/plain": [
       "2365    61243.085940\n",
       "2366    59302.316410\n",
       "2384    59095.808590\n",
       "2383    58918.832030\n",
       "2382    58917.691410\n",
       "            ...     \n",
       "123       210.339004\n",
       "120       209.843994\n",
       "121       208.097000\n",
       "122       199.259995\n",
       "119       178.102997\n",
       "Name: BTC-USD Price, Length: 2385, dtype: float64"
      ]
     },
     "execution_count": 50,
     "metadata": {},
     "output_type": "execute_result"
    }
   ],
   "source": [
    "BTC_price_series_copy.sort_values(ascending=False, inplace=True)\n",
    "BTC_price_series_copy"
   ]
  },
  {
   "cell_type": "markdown",
   "metadata": {
    "id": "1QT7bBFCkDhh"
   },
   "source": [
    "# TASK #10. PERFORM MATH OPERATIONS ON PANDAS SERIES"
   ]
  },
  {
   "cell_type": "code",
   "execution_count": 51,
   "metadata": {
    "executionInfo": {
     "elapsed": 3391,
     "status": "aborted",
     "timestamp": 1618858275579,
     "user": {
      "displayName": "Stemplicity",
      "photoUrl": "https://lh3.googleusercontent.com/a-/AOh14Gj2vCFt-bD5mPBhUWX0QA6xiBgoXQXtwUm2jgjaCg=s64",
      "userId": "10668071569687886186"
     },
     "user_tz": 240
    },
    "id": "Qpo7M9yYkJPQ"
   },
   "outputs": [
    {
     "data": {
      "text/plain": [
       "15435379.738852698"
      ]
     },
     "execution_count": 51,
     "metadata": {},
     "output_type": "execute_result"
    }
   ],
   "source": [
    "# Apply Sum Method on Pandas Series\n",
    "BTC_price_series.sum()"
   ]
  },
  {
   "cell_type": "code",
   "execution_count": 52,
   "metadata": {
    "executionInfo": {
     "elapsed": 3383,
     "status": "aborted",
     "timestamp": 1618858275580,
     "user": {
      "displayName": "Stemplicity",
      "photoUrl": "https://lh3.googleusercontent.com/a-/AOh14Gj2vCFt-bD5mPBhUWX0QA6xiBgoXQXtwUm2jgjaCg=s64",
      "userId": "10668071569687886186"
     },
     "user_tz": 240
    },
    "id": "FTSaQpjokJSM"
   },
   "outputs": [
    {
     "data": {
      "text/plain": [
       "2385"
      ]
     },
     "execution_count": 52,
     "metadata": {},
     "output_type": "execute_result"
    }
   ],
   "source": [
    "# Apply count Method on Pandas Series\n",
    "BTC_price_series.count()"
   ]
  },
  {
   "cell_type": "code",
   "execution_count": 53,
   "metadata": {
    "executionInfo": {
     "elapsed": 3374,
     "status": "aborted",
     "timestamp": 1618858275580,
     "user": {
      "displayName": "Stemplicity",
      "photoUrl": "https://lh3.googleusercontent.com/a-/AOh14Gj2vCFt-bD5mPBhUWX0QA6xiBgoXQXtwUm2jgjaCg=s64",
      "userId": "10668071569687886186"
     },
     "user_tz": 240
    },
    "id": "I8vVnB_5kj7C"
   },
   "outputs": [
    {
     "data": {
      "text/plain": [
       "61243.08594"
      ]
     },
     "execution_count": 53,
     "metadata": {},
     "output_type": "execute_result"
    }
   ],
   "source": [
    "# Obtain the maximum value\n",
    "BTC_price_series.max()"
   ]
  },
  {
   "cell_type": "code",
   "execution_count": 54,
   "metadata": {
    "executionInfo": {
     "elapsed": 3366,
     "status": "aborted",
     "timestamp": 1618858275581,
     "user": {
      "displayName": "Stemplicity",
      "photoUrl": "https://lh3.googleusercontent.com/a-/AOh14Gj2vCFt-bD5mPBhUWX0QA6xiBgoXQXtwUm2jgjaCg=s64",
      "userId": "10668071569687886186"
     },
     "user_tz": 240
    },
    "id": "u3-XBu-vko2y"
   },
   "outputs": [
    {
     "data": {
      "text/plain": [
       "178.1029968"
      ]
     },
     "execution_count": 54,
     "metadata": {},
     "output_type": "execute_result"
    }
   ],
   "source": [
    "# Obtain the minimum value\n",
    "BTC_price_series.min()"
   ]
  },
  {
   "cell_type": "code",
   "execution_count": 55,
   "metadata": {
    "executionInfo": {
     "elapsed": 3357,
     "status": "aborted",
     "timestamp": 1618858275582,
     "user": {
      "displayName": "Stemplicity",
      "photoUrl": "https://lh3.googleusercontent.com/a-/AOh14Gj2vCFt-bD5mPBhUWX0QA6xiBgoXQXtwUm2jgjaCg=s64",
      "userId": "10668071569687886186"
     },
     "user_tz": 240
    },
    "id": "jfaK3BsckvAK"
   },
   "outputs": [
    {
     "data": {
      "text/plain": [
       "count     2385.000000\n",
       "mean      6471.857333\n",
       "std       9289.022505\n",
       "min        178.102997\n",
       "25%        454.618988\n",
       "50%       4076.632568\n",
       "75%       8864.766602\n",
       "max      61243.085940\n",
       "Name: BTC-USD Price, dtype: float64"
      ]
     },
     "execution_count": 55,
     "metadata": {},
     "output_type": "execute_result"
    }
   ],
   "source": [
    "# My favourite: Describe! \n",
    "# Describe is used to obtain all statistical information in one place \n",
    "BTC_price_series.describe()"
   ]
  },
  {
   "cell_type": "code",
   "execution_count": 56,
   "metadata": {},
   "outputs": [
    {
     "data": {
      "text/plain": [
       "6471.857332852284"
      ]
     },
     "execution_count": 56,
     "metadata": {},
     "output_type": "execute_result"
    }
   ],
   "source": [
    "BTC_price_series.sum() / BTC_price_series.count()"
   ]
  },
  {
   "cell_type": "code",
   "execution_count": 57,
   "metadata": {},
   "outputs": [
    {
     "data": {
      "text/plain": [
       "6471.857332852284"
      ]
     },
     "execution_count": 57,
     "metadata": {},
     "output_type": "execute_result"
    }
   ],
   "source": [
    "BTC_price_series.mean()"
   ]
  },
  {
   "cell_type": "markdown",
   "metadata": {
    "id": "Yi8uUb_eiqxo"
   },
   "source": [
    "# TASK #11. CHECK IF A GIVEN ELEMENT EXISTS IN A PANDAS SERIES"
   ]
  },
  {
   "cell_type": "code",
   "execution_count": 58,
   "metadata": {
    "executionInfo": {
     "elapsed": 3339,
     "status": "aborted",
     "timestamp": 1618858275584,
     "user": {
      "displayName": "Stemplicity",
      "photoUrl": "https://lh3.googleusercontent.com/a-/AOh14Gj2vCFt-bD5mPBhUWX0QA6xiBgoXQXtwUm2jgjaCg=s64",
      "userId": "10668071569687886186"
     },
     "user_tz": 240
    },
    "id": "x0T4h0CWi-p7"
   },
   "outputs": [
    {
     "data": {
      "text/plain": [
       "False"
      ]
     },
     "execution_count": 58,
     "metadata": {},
     "output_type": "execute_result"
    }
   ],
   "source": [
    "# Check if a given number exists in a Pandas Series values\n",
    "# Returns a boolean \"True\" or \"False\"\n",
    "1295.500000 in BTC_price_series.values"
   ]
  },
  {
   "cell_type": "code",
   "execution_count": 74,
   "metadata": {
    "executionInfo": {
     "elapsed": 3323,
     "status": "aborted",
     "timestamp": 1618858275584,
     "user": {
      "displayName": "Stemplicity",
      "photoUrl": "https://lh3.googleusercontent.com/a-/AOh14Gj2vCFt-bD5mPBhUWX0QA6xiBgoXQXtwUm2jgjaCg=s64",
      "userId": "10668071569687886186"
     },
     "user_tz": 240
    },
    "id": "xa7GXwbhi-sh"
   },
   "outputs": [
    {
     "data": {
      "text/plain": [
       "True"
      ]
     },
     "execution_count": 74,
     "metadata": {},
     "output_type": "execute_result"
    }
   ],
   "source": [
    "# Check if a given number exists in a Pandas Series index\n",
    "1295 in BTC_price_series.index"
   ]
  },
  {
   "cell_type": "code",
   "execution_count": 75,
   "metadata": {
    "executionInfo": {
     "elapsed": 3317,
     "status": "aborted",
     "timestamp": 1618858275587,
     "user": {
      "displayName": "Stemplicity",
      "photoUrl": "https://lh3.googleusercontent.com/a-/AOh14Gj2vCFt-bD5mPBhUWX0QA6xiBgoXQXtwUm2jgjaCg=s64",
      "userId": "10668071569687886186"
     },
     "user_tz": 240
    },
    "id": "GyN5iG1ki-vC"
   },
   "outputs": [
    {
     "data": {
      "text/plain": [
       "True"
      ]
     },
     "execution_count": 75,
     "metadata": {},
     "output_type": "execute_result"
    }
   ],
   "source": [
    "# Note that by default 'in' will search in Pandas index and not values\n",
    "1295 in BTC_price_series"
   ]
  },
  {
   "cell_type": "markdown",
   "metadata": {},
   "source": [
    "# CAPSTONE FINAL PROJECT"
   ]
  },
  {
   "attachments": {
    "image.png": {
     "image/png": "[encoded data removed]"
    }
   },
   "cell_type": "markdown",
   "metadata": {},
   "source": [
    "![image.png](attachment:image.png)"
   ]
  },
  {
   "cell_type": "code",
   "execution_count": 59,
   "metadata": {},
   "outputs": [
    {
     "data": {
      "text/plain": [
       "BTC     43500\n",
       "ETH      3200\n",
       "ADA         1\n",
       "AAPL      171\n",
       "TSLA     1000\n",
       "AMZN     3175\n",
       "dtype: int64"
      ]
     },
     "execution_count": 59,
     "metadata": {},
     "output_type": "execute_result"
    }
   ],
   "source": [
    "portfolio = {'BTC':  43500,\n",
    "             'ETH':  3200,\n",
    "             'ADA':  1,\n",
    "             'AAPL': 171,\n",
    "             'TSLA': 1000, \n",
    "             'AMZN': 3175}\n",
    "portfolio_series = pd.Series(portfolio)\n",
    "portfolio_series"
   ]
  },
  {
   "cell_type": "code",
   "execution_count": 60,
   "metadata": {},
   "outputs": [
    {
     "data": {
      "text/plain": [
       "BTC     10\n",
       "ETH      5\n",
       "ADA      2\n",
       "AAPL     4\n",
       "TSLA     5\n",
       "AMZN     6\n",
       "dtype: int64"
      ]
     },
     "execution_count": 60,
     "metadata": {},
     "output_type": "execute_result"
    }
   ],
   "source": [
    "number_securities = pd.Series(data = [10, 5, 2, 4, 5, 6],  index = ['BTC', 'ETH', 'ADA', 'AAPL', 'TSLA', 'AMZN'])\n",
    "number_securities"
   ]
  },
  {
   "cell_type": "code",
   "execution_count": 61,
   "metadata": {},
   "outputs": [
    {
     "name": "stdout",
     "output_type": "stream",
     "text": [
      "BTC     435000\n",
      "ETH      16000\n",
      "ADA          2\n",
      "AAPL       684\n",
      "TSLA      5000\n",
      "AMZN     19050\n",
      "dtype: int64\n"
     ]
    }
   ],
   "source": [
    "Total_dollar_value = portfolio_series.mul(number_securities);\n",
    "print(Total_dollar_value)"
   ]
  },
  {
   "cell_type": "code",
   "execution_count": 62,
   "metadata": {},
   "outputs": [
    {
     "data": {
      "text/plain": [
       "475736"
      ]
     },
     "execution_count": 62,
     "metadata": {},
     "output_type": "execute_result"
    }
   ],
   "source": [
    "Total_dollar_value.sum()"
   ]
  },
  {
   "cell_type": "markdown",
   "metadata": {},
   "source": [
    "Part B"
   ]
  },
  {
   "cell_type": "code",
   "execution_count": 63,
   "metadata": {},
   "outputs": [
    {
     "data": {
      "text/plain": [
       "0       1295.500000\n",
       "1       1289.089966\n",
       "2       1293.670044\n",
       "3       1308.040039\n",
       "4       1314.500000\n",
       "           ...     \n",
       "2154    3327.770020\n",
       "2155    3349.159912\n",
       "2156    3351.280029\n",
       "2157    3360.469971\n",
       "2158    3333.689941\n",
       "Name: sp500, Length: 2159, dtype: float64"
      ]
     },
     "execution_count": 63,
     "metadata": {},
     "output_type": "execute_result"
    }
   ],
   "source": [
    "sp500 = pd.read_csv('S&P500_Prices.csv').squeeze('columns')\n",
    "sp500"
   ]
  },
  {
   "cell_type": "code",
   "execution_count": 64,
   "metadata": {},
   "outputs": [
    {
     "data": {
      "text/plain": [
       "(2159, 3386.149902, 1278.040039, 2218.7495540592868)"
      ]
     },
     "execution_count": 64,
     "metadata": {},
     "output_type": "execute_result"
    }
   ],
   "source": [
    "len(sp500), max(sp500), min(sp500), sp500.mean()"
   ]
  },
  {
   "cell_type": "code",
   "execution_count": 66,
   "metadata": {},
   "outputs": [
    {
     "data": {
      "text/plain": [
       "97      1278.040039\n",
       "98      1278.180054\n",
       "99      1285.500000\n",
       "1       1289.089966\n",
       "2       1293.670044\n",
       "           ...     \n",
       "2038    3373.229980\n",
       "2034    3373.939941\n",
       "2033    3379.449951\n",
       "2035    3380.159912\n",
       "2037    3386.149902\n",
       "Name: sp500, Length: 2159, dtype: float64"
      ]
     },
     "execution_count": 66,
     "metadata": {},
     "output_type": "execute_result"
    }
   ],
   "source": [
    "sp500_copy = sp500.copy()\n",
    "sp500_copy.sort_values(inplace = True) \n",
    "sp500_copy"
   ]
  },
  {
   "cell_type": "code",
   "execution_count": 67,
   "metadata": {},
   "outputs": [
    {
     "data": {
      "text/plain": [
       "2037    3386.149902\n",
       "2035    3380.159912\n",
       "2033    3379.449951\n",
       "2034    3373.939941\n",
       "2038    3373.229980\n",
       "           ...     \n",
       "2       1293.670044\n",
       "1       1289.089966\n",
       "99      1285.500000\n",
       "98      1278.180054\n",
       "97      1278.040039\n",
       "Name: sp500, Length: 2159, dtype: float64"
      ]
     },
     "execution_count": 67,
     "metadata": {},
     "output_type": "execute_result"
    }
   ],
   "source": [
    "sp500_copy.sort_values(ascending=False, inplace = True) \n",
    "sp500_copy"
   ]
  },
  {
   "cell_type": "code",
   "execution_count": 68,
   "metadata": {},
   "outputs": [
    {
     "data": {
      "text/plain": [
       "count    2159.000000\n",
       "mean     2218.749554\n",
       "std       537.321727\n",
       "min      1278.040039\n",
       "25%      1847.984985\n",
       "50%      2106.629883\n",
       "75%      2705.810059\n",
       "max      3386.149902\n",
       "Name: sp500, dtype: float64"
      ]
     },
     "execution_count": 68,
     "metadata": {},
     "output_type": "execute_result"
    }
   ],
   "source": [
    "sp500.describe()"
   ]
  },
  {
   "cell_type": "code",
   "execution_count": 69,
   "metadata": {},
   "outputs": [
    {
     "data": {
      "text/plain": [
       "False"
      ]
     },
     "execution_count": 69,
     "metadata": {},
     "output_type": "execute_result"
    }
   ],
   "source": [
    "3349 in sp500.values"
   ]
  },
  {
   "cell_type": "code",
   "execution_count": 70,
   "metadata": {},
   "outputs": [
    {
     "data": {
      "text/plain": [
       "0       1296.0\n",
       "1       1289.0\n",
       "2       1294.0\n",
       "3       1308.0\n",
       "4       1314.0\n",
       "         ...  \n",
       "2154    3328.0\n",
       "2155    3349.0\n",
       "2156    3351.0\n",
       "2157    3360.0\n",
       "2158    3334.0\n",
       "Name: sp500, Length: 2159, dtype: float64"
      ]
     },
     "execution_count": 70,
     "metadata": {},
     "output_type": "execute_result"
    }
   ],
   "source": [
    "sp500 = round(sp500)\n",
    "sp500"
   ]
  },
  {
   "cell_type": "code",
   "execution_count": 71,
   "metadata": {},
   "outputs": [
    {
     "data": {
      "text/plain": [
       "True"
      ]
     },
     "execution_count": 71,
     "metadata": {},
     "output_type": "execute_result"
    }
   ],
   "source": [
    "3349 in sp500.values"
   ]
  }
 ],
 "metadata": {
  "colab": {
   "authorship_tag": "ABX9TyP9Y/XANKrtczPMhh6Kukca",
   "collapsed_sections": [],
   "name": "1. Pandas Fundamentals - Series.ipynb",
   "provenance": [],
   "toc_visible": true
  },
  "kernelspec": {
   "display_name": "Python 3 (ipykernel)",
   "language": "python",
   "name": "python3"
  },
  "language_info": {
   "codemirror_mode": {
    "name": "ipython",
    "version": 3
   },
   "file_extension": ".py",
   "mimetype": "text/x-python",
   "name": "python",
   "nbconvert_exporter": "python",
   "pygments_lexer": "ipython3",
   "version": "3.8.9"
  }
 },
 "nbformat": 4,
 "nbformat_minor": 1
}
